{
 "cells": [
  {
   "cell_type": "markdown",
   "id": "d9268d6d",
   "metadata": {},
   "source": [
    "## Generating constraint and violation data for building services on top of the project"
   ]
  },
  {
   "cell_type": "code",
   "execution_count": 1,
   "id": "f16fc46b",
   "metadata": {
    "is_executing": true
   },
   "outputs": [
    {
     "name": "stderr",
     "output_type": "stream",
     "text": [
      "/Users/adrianrebmann/Develop/Best-Practice Conf./content/dev/semantic-constraint-miner/env/lib/python3.10/site-packages/sentence_transformers/cross_encoder/CrossEncoder.py:11: TqdmExperimentalWarning: Using `tqdm.autonotebook.tqdm` in notebook mode. Use `tqdm.tqdm` instead to force console mode (e.g. in jupyter console)\n",
      "  from tqdm.autonotebook import tqdm, trange\n"
     ]
    }
   ],
   "source": [
    "from pathlib import Path\n",
    "import os\n",
    "from semconstmining.parsing.label_parser.nlp_helper import NlpHelper\n",
    "from semconstmining.config import Config\n",
    "from semconstmining.main import get_resource_handler, get_or_mine_constraints\n",
    "from semconstmining.declare.enums import Template\n",
    "\n",
    "MODEL_COLLECTION = \"semantic_sap_sam_filtered\"\n",
    "config = Config(Path(os.getcwd()).parents[1].resolve(), MODEL_COLLECTION)\n",
    "config.CONSTRAINT_TYPES_TO_IGNORE.remove(Template.NOT_CO_EXISTENCE.templ_str)"
   ]
  },
  {
   "cell_type": "code",
   "execution_count": null,
   "id": "b5cc3c59",
   "metadata": {
    "pycharm": {
     "is_executing": true
    }
   },
   "outputs": [
    {
     "name": "stderr",
     "output_type": "stream",
     "text": [
      "[2024-07-10 11:33:31,796] p84679 {keyedvectors.py:2047} INFO - loading projection weights from /Users/adrianrebmann/gensim-data/glove-wiki-gigaword-50/glove-wiki-gigaword-50.gz\n",
      "[2024-07-10 11:33:46,643] p84679 {utils.py:448} INFO - KeyedVectors lifecycle event {'msg': 'loaded (400000, 50) matrix of type float32 from /Users/adrianrebmann/gensim-data/glove-wiki-gigaword-50/glove-wiki-gigaword-50.gz', 'binary': False, 'encoding': 'utf8', 'datetime': '2024-07-10T11:33:46.643594', 'gensim': '4.3.2', 'python': '3.10.13 (main, Aug 24 2023, 12:59:26) [Clang 15.0.0 (clang-1500.1.0.2.5)]', 'platform': 'macOS-14.5-x86_64-i386-64bit', 'event': 'load_word2vec_format'}\n",
      "[2024-07-10 11:33:46,745] p84679 {nlp_helper.py:95} INFO - Loaded 0 known embeddings and 238914 known similarities\n",
      "[2024-07-10 11:33:46,746] p84679 {resource_handler.py:113} INFO - Loading elements from /Users/adrianrebmann/Develop/Best-Practice Conf./content/dev/data/interim/semantic_sap_sam_filtered_bpmn_elements.pkl.\n",
      "[2024-07-10 11:33:46,818] p84679 {resource_handler.py:121} INFO - There are 387 referenced data objects.\n",
      "[2024-07-10 11:33:46,825] p84679 {resource_handler.py:122} INFO - These have 287 unique names.\n",
      "[2024-07-10 11:33:46,826] p84679 {resource_handler.py:123} INFO - There are 39743 elements in total.\n",
      "[2024-07-10 11:33:46,827] p84679 {resource_handler.py:174} INFO - Loading detected languages.\n",
      "[2024-07-10 11:33:46,833] p84679 {resource_handler.py:241} INFO - Filtering for english labels.\n",
      "[2024-07-10 11:33:46,860] p84679 {resource_handler.py:155} INFO - Loading models from /Users/adrianrebmann/Develop/Best-Practice Conf./content/dev/data/interim/semantic_sap_sam_filtered_bpmn_models.pkl.\n",
      "[2024-07-10 11:33:47,711] p84679 {resource_handler.py:204} INFO - Number of available logs: 1562\n",
      "[2024-07-10 11:33:47,712] p84679 {resource_handler.py:205} INFO - Number of available models: 1566\n",
      "[2024-07-10 11:33:47,712] p84679 {resource_handler.py:213} INFO - Loading tagged labels.\n",
      "[2024-07-10 11:33:47,729] p84679 {resource_handler.py:235} INFO - We have 4283 labels.\n",
      "[2024-07-10 11:33:48,379] p84679 {main.py:161} INFO - Ignoring constraints of type Chain Response\n",
      "[2024-07-10 11:33:48,470] p84679 {main.py:161} INFO - Ignoring constraints of type Chain Precedence\n",
      "[2024-07-10 11:33:48,499] p84679 {main.py:161} INFO - Ignoring constraints of type Chain Succession\n",
      "[2024-07-10 11:33:48,532] p84679 {main.py:161} INFO - Ignoring constraints of type Choice\n",
      "[2024-07-10 11:33:48,565] p84679 {main.py:161} INFO - Ignoring constraints of type Init\n",
      "[2024-07-10 11:33:48,597] p84679 {main.py:161} INFO - Ignoring constraints of type End\n",
      "[2024-07-10 11:33:48,635] p84679 {main.py:161} INFO - Ignoring constraints of type Not Responded Existence\n",
      "[2024-07-10 11:33:48,664] p84679 {main.py:161} INFO - Ignoring constraints of type Not Response\n",
      "[2024-07-10 11:33:48,696] p84679 {main.py:161} INFO - Ignoring constraints of type Not Chain Response\n",
      "[2024-07-10 11:33:48,733] p84679 {main.py:161} INFO - Ignoring constraints of type Not Precedence\n",
      "[2024-07-10 11:33:48,776] p84679 {main.py:161} INFO - Ignoring constraints of type Not Chain Precedence\n",
      "[2024-07-10 11:33:48,807] p84679 {main.py:161} INFO - Ignoring constraints of type Not Succession\n",
      "[2024-07-10 11:33:48,838] p84679 {main.py:161} INFO - Ignoring constraints of type Not Alternate Succession\n",
      "[2024-07-10 11:33:48,867] p84679 {main.py:161} INFO - Ignoring constraints of type Not Chain Succession\n",
      "[2024-07-10 11:33:48,898] p84679 {main.py:164} INFO - Ignoring constraints of type ['Exactly', 'Existence', 'Absence'] at level Activity\n",
      "[2024-07-10 11:33:48,950] p84679 {main.py:164} INFO - Ignoring constraints of type [] at level Object\n",
      "[2024-07-10 11:33:48,984] p84679 {main.py:164} INFO - Ignoring constraints of type ['Exactly', 'Existence', 'Absence', 'Exclusive Choice'] at level Multi-object\n",
      "[2024-07-10 11:33:49,022] p84679 {main.py:164} INFO - Ignoring constraints of type [] at level Resource\n"
     ]
    }
   ],
   "source": [
    "nlp_helper = NlpHelper(config)\n",
    "resource_handler = get_resource_handler(config, nlp_helper)\n",
    "all_constraints = get_or_mine_constraints(config, resource_handler, min_support=1)"
   ]
  },
  {
   "cell_type": "code",
   "execution_count": null,
   "id": "19597532",
   "metadata": {
    "pycharm": {
     "is_executing": true
    }
   },
   "outputs": [],
   "source": [
    "all_constraints"
   ]
  },
  {
   "cell_type": "code",
   "execution_count": null,
   "id": "6f2eb1d1",
   "metadata": {},
   "outputs": [],
   "source": [
    "# Export\n",
    "all_constraints.to_csv(\"example_constraints.csv\")"
   ]
  },
  {
   "cell_type": "markdown",
   "id": "3d11fbd8",
   "metadata": {},
   "source": [
    "### Creation violation data"
   ]
  },
  {
   "cell_type": "code",
   "execution_count": null,
   "id": "8092a157",
   "metadata": {},
   "outputs": [],
   "source": [
    "from semconstmining.log.loghandler import LogHandler\n",
    "from semconstmining.log.loginfo import LogInfo\n",
    "from semconstmining.log.logstats import LogStats\n",
    "from semconstmining.selection.instantiation.filter_config import FilterConfig\n",
    "from semconstmining.selection.instantiation.recommendation_config import RecommendationConfig\n",
    "from semconstmining.main import get_parts_of_constraints, compute_relevance_for_log, get_log_and_info, recommend_constraints_for_log, check_constraints, get_violation_to_cases\n",
    "from semconstmining.selection.instantiation.constraintfilter import ConstraintFilter\n",
    "from semconstmining.selection.instantiation.constraintrecommender import ConstraintRecommender\n",
    "from os.path import exists\n",
    "import pandas as pd\n",
    "\n",
    "\n",
    "CURRENT_LOG_FILE = \"BPI_Challenge_2019-3-w-after.xes\"\n",
    "\n",
    "filter_config = FilterConfig(config)\n",
    "recommender_config = RecommendationConfig(config, top_k=250)\n",
    "\n",
    "nlp_helper.pre_compute_embeddings(sentences=get_parts_of_constraints(config, all_constraints))\n",
    "\n",
    "const_filter = ConstraintFilter(config, filter_config, resource_handler)\n",
    "filtered_constraints = const_filter.filter_constraints(all_constraints)\n",
    "event_log, log_info = get_log_and_info(config, nlp_helper, CURRENT_LOG_FILE)\n",
    "\n",
    "# Log-specific constraint recommendation\n",
    "if not exists(config.DATA_INTERIM / (CURRENT_LOG_FILE + \"-constraints_with_relevance.pkl\")):\n",
    "    filtered_constraints = compute_relevance_for_log(config, filtered_constraints, nlp_helper, CURRENT_LOG_FILE,\n",
    "                                                     pd_log=event_log, precompute=True)\n",
    "    filtered_constraints.to_pickle(config.DATA_INTERIM / (CURRENT_LOG_FILE + \"-constraints_with_relevance.pkl\"))\n",
    "else:\n",
    "    filtered_constraints = pd.read_pickle(config.DATA_INTERIM / (CURRENT_LOG_FILE + \"-constraints_with_relevance.pkl\"))\n",
    "recommended_constraints = recommend_constraints_for_log(config, recommender_config, filtered_constraints,\n",
    "                                                        nlp_helper,\n",
    "                                                        CURRENT_LOG_FILE, pd_log=event_log)\n",
    "consistent_recommended_constraints = recommended_constraints\n",
    "violations = check_constraints(config, CURRENT_LOG_FILE, consistent_recommended_constraints, nlp_helper, pd_log=event_log)\n",
    "violations_to_cases = get_violation_to_cases(config, violations)\n",
    "violation_df = pd.DataFrame.from_records(\n",
    "    [{\"violation\": violation, \"num_violations\": len(cases), \"cases\": cases} for violation, cases in\n",
    "     violations_to_cases.items()])"
   ]
  },
  {
   "cell_type": "code",
   "execution_count": null,
   "id": "d0208836",
   "metadata": {},
   "outputs": [],
   "source": [
    "violation_df"
   ]
  },
  {
   "cell_type": "code",
   "execution_count": null,
   "id": "abdb279a",
   "metadata": {},
   "outputs": [],
   "source": [
    "# Export\n",
    "violation_df.to_pickle(\"example_violations.pkl\")"
   ]
  }
 ],
 "metadata": {
  "kernelspec": {
   "display_name": "Python 3 (ipykernel)",
   "language": "python",
   "name": "python3"
  },
  "language_info": {
   "codemirror_mode": {
    "name": "ipython",
    "version": 3
   },
   "file_extension": ".py",
   "mimetype": "text/x-python",
   "name": "python",
   "nbconvert_exporter": "python",
   "pygments_lexer": "ipython3",
   "version": "3.10.13"
  }
 },
 "nbformat": 4,
 "nbformat_minor": 5
}
