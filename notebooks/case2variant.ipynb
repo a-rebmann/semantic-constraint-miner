{
 "cells": [
  {
   "cell_type": "markdown",
   "id": "5d8866a0",
   "metadata": {},
   "source": [
    "## Loading a log and creating a case ID to variant mapping"
   ]
  },
  {
   "cell_type": "code",
   "execution_count": null,
   "id": "0a6c6665",
   "metadata": {},
   "outputs": [],
   "source": [
    "!pip install -q pm4py"
   ]
  },
  {
   "cell_type": "code",
   "execution_count": null,
   "id": "6e359505",
   "metadata": {},
   "outputs": [],
   "source": [
    "import pm4py\n",
    "import numpy as np\n",
    "log_file = \"../../data/logs/BPI_Challenge_2019-3-w-after.xes\" #TODO change this to your path\n",
    "log = pm4py.read.read_xes(log_file)"
   ]
  },
  {
   "cell_type": "code",
   "execution_count": null,
   "id": "469f1ba3",
   "metadata": {},
   "outputs": [],
   "source": [
    "def get_variant_for_cases(log, case_id_key=\"case:concept:name\", activity_key=\"concept:name\"):\n",
    "    if not (hasattr(log, \"attrs\") and log.attrs):\n",
    "        # dataframe has not been initialized through format_dataframe\n",
    "        log = pandas_utils.insert_index(dataframe, \"@@index\")\n",
    "        log.sort_values([case_id_key, timestamp_key, \"@@index\"])\n",
    "\n",
    "    cases = log[case_id_key].to_numpy()\n",
    "    activities = log[activity_key].to_numpy()\n",
    "\n",
    "    c_unq, c_ind, c_counts = np.unique(cases, return_index=True, return_counts=True)\n",
    "    variants = dict()\n",
    "\n",
    "    for i in range(len(c_ind)):\n",
    "        si = c_ind[i]\n",
    "        ei = si + c_counts[i]\n",
    "        acts = tuple(activities[si:ei])\n",
    "        variants[c_unq[i]] = acts\n",
    "    return variants"
   ]
  },
  {
   "cell_type": "code",
   "execution_count": null,
   "id": "7efc3da2",
   "metadata": {},
   "outputs": [],
   "source": [
    "get_variant_for_cases(log)\n",
    "variants[\"2000000001_00001\"]"
   ]
  },
  {
   "cell_type": "code",
   "execution_count": null,
   "id": "fc86d3f3",
   "metadata": {},
   "outputs": [],
   "source": []
  }
 ],
 "metadata": {
  "kernelspec": {
   "display_name": "Python 3 (ipykernel)",
   "language": "python",
   "name": "python3"
  },
  "language_info": {
   "codemirror_mode": {
    "name": "ipython",
    "version": 3
   },
   "file_extension": ".py",
   "mimetype": "text/x-python",
   "name": "python",
   "nbconvert_exporter": "python",
   "pygments_lexer": "ipython3",
   "version": "3.9.15"
  }
 },
 "nbformat": 4,
 "nbformat_minor": 5
}
