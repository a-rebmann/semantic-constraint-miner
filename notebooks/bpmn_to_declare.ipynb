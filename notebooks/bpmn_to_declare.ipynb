{
 "cells": [
  {
   "cell_type": "code",
   "execution_count": null,
   "id": "initial_id",
   "metadata": {
    "collapsed": true
   },
   "outputs": [],
   "source": [
    "import logging\n",
    "import json\n",
    "from pathlib import Path\n",
    "import os\n",
    "\n",
    "logging.basicConfig(format='[%(asctime)s] p%(process)s {%(filename)s:%(lineno)d} %(levelname)s - %(message)s',\n",
    "                    level=logging.WARNING)\n",
    "\n",
    "PROJECT_ROOT = Path(os.getcwd()).parents[1].resolve()\n",
    "DATA_PATH = os.path.join(PROJECT_ROOT, 'data')\n",
    "\n",
    "MODEL_FILE = 'model_1_'\n",
    "\n",
    "# load json from file\n",
    "with open(os.path.join(DATA_PATH, MODEL_FILE + '.json'), 'r') as json_file:\n",
    "    model_json = json.loads(json_file.read())"
   ]
  },
  {
   "cell_type": "code",
   "outputs": [],
   "source": [
    "import pandas as pd\n",
    "from semconstmining.parsing.parser import get_elements_flat\n",
    "from semconstmining.parsing.model_to_log import check_soundness, create_log\n",
    "from semconstmining.parsing.conversion.bpmnjsonanalyzer import fromJSON\n",
    "from semconstmining.parsing.conversion.jsontopetrinetconverter import JsonToPetriNetConverter\n",
    "\n",
    "f, l, _ = fromJSON(model_json)\n",
    "elements = pd.DataFrame.from_records(get_elements_flat(model_json, f, l)).set_index('eid')\n",
    "elements"
   ],
   "metadata": {
    "collapsed": false
   },
   "id": "61995cabf792588a",
   "execution_count": null
  },
  {
   "cell_type": "code",
   "outputs": [],
   "source": [
    "converter = JsonToPetriNetConverter()\n",
    "\n",
    "net, im, fm = converter.convert_from_parsed(f, l)\n",
    "is_sound = check_soundness(net, im, fm)\n",
    "print(is_sound)\n",
    "if is_sound:\n",
    "    log = create_log(net, im, fm, elements)\n",
    "    print(log)"
   ],
   "metadata": {
    "collapsed": false
   },
   "id": "20f59e248754d26a",
   "execution_count": null
  },
  {
   "cell_type": "code",
   "outputs": [],
   "source": [
    "from semconstmining.declare.enums import Template\n",
    "from semconstmining.declare.declare import Declare\n",
    "\n",
    "\n",
    "d4py = Declare()\n",
    "d4py.config.CONSTRAINT_TYPES_TO_IGNORE = [Template.CHAIN_RESPONSE.templ_str,\n",
    "                                           Template.CHAIN_PRECEDENCE.templ_str, Template.CHAIN_SUCCESSION.templ_str,\n",
    "                                           Template.CHOICE.templ_str, Template.NOT_CHAIN_RESPONSE.templ_str,\n",
    "                                             Template.NOT_CHAIN_PRECEDENCE.templ_str]\n",
    "res = set()\n",
    "for i, trace in enumerate(log):\n",
    "    trace.attributes[\"concept:name\"] = str(i)\n",
    "d4py.log = log\n",
    "d4py.compute_frequent_itemsets(min_support=0.0, len_itemset=2, algorithm=\"apriori\")\n",
    "d4py.discovery(consider_vacuity=True, max_declare_cardinality=2, plain=True)\n",
    "individual_res, associations = d4py.filter_discovery(min_support=0.99, plain=True)\n",
    "res.update(const for const, checker_results in individual_res.items() if \"[]\" not in const\n",
    "           and \"[none]\" not in const)\n",
    "res"
   ],
   "metadata": {
    "collapsed": false
   },
   "id": "b89a4ebc81b0d1b",
   "execution_count": null
  },
  {
   "cell_type": "code",
   "outputs": [],
   "source": [],
   "metadata": {
    "collapsed": false
   },
   "id": "f3b7254752550585"
  }
 ],
 "metadata": {
  "kernelspec": {
   "display_name": "Python 3",
   "language": "python",
   "name": "python3"
  },
  "language_info": {
   "codemirror_mode": {
    "name": "ipython",
    "version": 2
   },
   "file_extension": ".py",
   "mimetype": "text/x-python",
   "name": "python",
   "nbconvert_exporter": "python",
   "pygments_lexer": "ipython2",
   "version": "2.7.6"
  }
 },
 "nbformat": 4,
 "nbformat_minor": 5
}
