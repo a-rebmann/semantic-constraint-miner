{
 "cells": [
  {
   "cell_type": "markdown",
   "id": "d9268d6d",
   "metadata": {},
   "source": [
    "## Generating constraint and violation data for building services on top of the project"
   ]
  },
  {
   "cell_type": "code",
   "execution_count": null,
   "id": "f16fc46b",
   "metadata": {
    "is_executing": true
   },
   "outputs": [],
   "source": [
    "from pathlib import Path\n",
    "import os\n",
    "from semconstmining.parsing.label_parser.nlp_helper import NlpHelper\n",
    "from semconstmining.config import Config\n",
    "from semconstmining.main import get_resource_handler, get_or_mine_constraints\n",
    "from semconstmining.declare.enums import Template\n",
    "\n",
    "MODEL_COLLECTION = \"semantic_sap_sam_filtered\"\n",
    "config = Config(Path(os.getcwd()).parents[1].resolve(), MODEL_COLLECTION)\n",
    "config.CONSTRAINT_TYPES_TO_IGNORE.remove(Template.NOT_CO_EXISTENCE.templ_str)"
   ]
  },
  {
   "cell_type": "code",
   "execution_count": null,
   "id": "b5cc3c59",
   "metadata": {
    "pycharm": {
     "is_executing": true
    }
   },
   "outputs": [],
   "source": [
    "nlp_helper = NlpHelper(config)\n",
    "resource_handler = get_resource_handler(config, nlp_helper)\n",
    "all_constraints = get_or_mine_constraints(config, resource_handler, min_support=1)"
   ]
  },
  {
   "cell_type": "code",
   "execution_count": null,
   "id": "19597532",
   "metadata": {
    "pycharm": {
     "is_executing": true
    }
   },
   "outputs": [],
   "source": [
    "all_constraints"
   ]
  },
  {
   "cell_type": "code",
   "execution_count": null,
   "id": "6f2eb1d1",
   "metadata": {},
   "outputs": [],
   "source": [
    "# Export\n",
    "all_constraints.to_csv(\"example_constraints.csv\")"
   ]
  },
  {
   "cell_type": "markdown",
   "id": "3d11fbd8",
   "metadata": {},
   "source": [
    "### Creation violation data"
   ]
  },
  {
   "cell_type": "code",
   "execution_count": null,
   "id": "8092a157",
   "metadata": {},
   "outputs": [],
   "source": [
    "from semconstmining.log.loghandler import LogHandler\n",
    "from semconstmining.log.loginfo import LogInfo\n",
    "from semconstmining.log.logstats import LogStats\n",
    "from semconstmining.selection.instantiation.filter_config import FilterConfig\n",
    "from semconstmining.selection.instantiation.recommendation_config import RecommendationConfig\n",
    "from semconstmining.main import get_parts_of_constraints, compute_relevance_for_log, get_log_and_info, recommend_constraints_for_log, check_constraints, get_violation_to_cases\n",
    "from semconstmining.selection.instantiation.constraintfilter import ConstraintFilter\n",
    "from semconstmining.selection.instantiation.constraintrecommender import ConstraintRecommender\n",
    "from os.path import exists\n",
    "import pandas as pd\n",
    "\n",
    "\n",
    "CURRENT_LOG_FILE = \"BPI_Challenge_2019-3-w-after.xes\"\n",
    "\n",
    "filter_config = FilterConfig(config)\n",
    "recommender_config = RecommendationConfig(config, top_k=250)\n",
    "\n",
    "nlp_helper.pre_compute_embeddings(sentences=get_parts_of_constraints(config, all_constraints))\n",
    "\n",
    "const_filter = ConstraintFilter(config, filter_config, resource_handler)\n",
    "filtered_constraints = const_filter.filter_constraints(all_constraints)\n",
    "event_log, log_info = get_log_and_info(config, nlp_helper, CURRENT_LOG_FILE)\n",
    "\n",
    "# Log-specific constraint recommendation\n",
    "if not exists(config.DATA_INTERIM / (CURRENT_LOG_FILE + \"-constraints_with_relevance.pkl\")):\n",
    "    filtered_constraints = compute_relevance_for_log(config, filtered_constraints, nlp_helper, CURRENT_LOG_FILE,\n",
    "                                                     pd_log=event_log, precompute=True)\n",
    "    filtered_constraints.to_pickle(config.DATA_INTERIM / (CURRENT_LOG_FILE + \"-constraints_with_relevance.pkl\"))\n",
    "else:\n",
    "    filtered_constraints = pd.read_pickle(config.DATA_INTERIM / (CURRENT_LOG_FILE + \"-constraints_with_relevance.pkl\"))\n",
    "recommended_constraints = recommend_constraints_for_log(config, recommender_config, filtered_constraints,\n",
    "                                                        nlp_helper,\n",
    "                                                        CURRENT_LOG_FILE, pd_log=event_log)\n",
    "consistent_recommended_constraints = recommended_constraints\n",
    "violations = check_constraints(config, CURRENT_LOG_FILE, consistent_recommended_constraints, nlp_helper, pd_log=event_log)\n",
    "violations_to_cases = get_violation_to_cases(config, violations)\n",
    "violation_df = pd.DataFrame.from_records(\n",
    "    [{\"violation\": violation, \"num_violations\": len(cases), \"cases\": cases} for violation, cases in\n",
    "     violations_to_cases.items()])"
   ]
  },
  {
   "cell_type": "code",
   "execution_count": null,
   "id": "d0208836",
   "metadata": {},
   "outputs": [],
   "source": [
    "violation_df"
   ]
  },
  {
   "cell_type": "code",
   "execution_count": null,
   "id": "abdb279a",
   "metadata": {},
   "outputs": [],
   "source": [
    "# Export\n",
    "violation_df.to_pickle(\"example_violations.pkl\")"
   ]
  }
 ],
 "metadata": {
  "kernelspec": {
   "display_name": "Python 3 (ipykernel)",
   "language": "python",
   "name": "python3"
  },
  "language_info": {
   "codemirror_mode": {
    "name": "ipython",
    "version": 3
   },
   "file_extension": ".py",
   "mimetype": "text/x-python",
   "name": "python",
   "nbconvert_exporter": "python",
   "pygments_lexer": "ipython3",
   "version": "3.9.13"
  }
 },
 "nbformat": 4,
 "nbformat_minor": 5
}
