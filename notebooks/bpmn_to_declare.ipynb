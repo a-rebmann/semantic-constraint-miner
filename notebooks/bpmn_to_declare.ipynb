{
 "cells": [
  {
   "cell_type": "code",
   "execution_count": 1,
   "id": "initial_id",
   "metadata": {
    "collapsed": true,
    "ExecuteTime": {
     "end_time": "2024-03-21T10:11:39.566205Z",
     "start_time": "2024-03-21T10:11:39.549890Z"
    }
   },
   "outputs": [],
   "source": [
    "import logging\n",
    "import json\n",
    "from pathlib import Path\n",
    "import os\n",
    "\n",
    "logging.basicConfig(format='[%(asctime)s] p%(process)s {%(filename)s:%(lineno)d} %(levelname)s - %(message)s',\n",
    "                    level=logging.WARNING)\n",
    "\n",
    "PROJECT_ROOT = Path(os.getcwd()).parents[1].resolve()\n",
    "DATA_PATH = os.path.join(PROJECT_ROOT, 'data')\n",
    "\n",
    "MODEL_FILE = 'model_1_'\n",
    "\n",
    "# load json from file\n",
    "with open(os.path.join(DATA_PATH, MODEL_FILE + '.json'), 'r') as json_file:\n",
    "    model_json = json.loads(json_file.read())"
   ]
  },
  {
   "cell_type": "code",
   "outputs": [
    {
     "data": {
      "text/plain": "                                                              category   \neid                                                                      \nFlow_13uc2wb                                              SequenceFlow  \\\nnode_4f04a242-3089-4fc6-a3c0-85441a7d0392                 SequenceFlow   \nnode_7024a84f-28a7-463c-8cdb-32786325aa00                 SequenceFlow   \nnode_0b029add-a1be-435f-8f9f-d353a5f1c78e                 SequenceFlow   \nnode_46369223-8420-429f-88ab-a3e90986c170                 SequenceFlow   \nnode_3e08ecf9-c0eb-4b35-bf1f-98beaa32ae51                 SequenceFlow   \nnode_ba297df6-91fc-44a2-837b-0445bf8a988b                 SequenceFlow   \nnode_7c638e28-d7b9-40d0-b694-11f1730c7cc7                 SequenceFlow   \nnode_b2235c13-d108-4598-b8f2-8c0fcb092475                 SequenceFlow   \nnode_1d47d4f2-394f-4c41-8349-a21c1bd2d5f4                 SequenceFlow   \nnode_e65c0296-5357-4ea6-bb5b-9d97ffdb1cc4                 SequenceFlow   \nnode_b759e156-0017-4a88-9089-f464a691e72e                 SequenceFlow   \nnode_756c2b34-ade7-4d30-9ad5-8d88a4fe48b8                 SequenceFlow   \nnode_feec96d3-39f6-4ec6-b60f-70886fb067e1                 SequenceFlow   \nnode_26453280-fdad-4264-8ebc-e74f9063991e                 SequenceFlow   \nnode_1740fa9c-debe-4cb8-826c-e28cd352a026                 SequenceFlow   \nnode_decb4122-cac9-49e8-9fe1-73ea11f1ac4e                 SequenceFlow   \nnode_b8ebcd61-f9a7-49eb-ad3f-4bb4e34ea92c                 SequenceFlow   \nnode_a39f0682-876c-4126-bd78-201ecd01ac42                 SequenceFlow   \nnode_4ca4283d-2a6e-4cba-b41a-b183c6367483                 SequenceFlow   \nnode_94c5d9be-c1ee-4e5c-ada3-49a29034649b                 SequenceFlow   \nnode_b81e5da9-1262-4bde-8c22-0e5c4462adfe                 SequenceFlow   \nnode_4164d419-31e8-4389-98fb-cb5d82b642a8                 SequenceFlow   \nnode_731b1e10-85bc-4cbd-a907-a97397d98a3b                 SequenceFlow   \nGateway_10qrmx2                                        ParallelGateway   \nnode_e8edc907-2719-4073-a972-88e3ab24d16d               StartNoneEvent   \nnode_d8fd7b75-26df-4db9-a3c3-444432bb3034                         Task   \nnode_c3d533f2-4a4b-44ee-bc3b-6b360a8eb46c                         Task   \nnode_bde37d1e-eed0-4702-82c6-1bc75062ab11  Exclusive_Databased_Gateway   \nnode_ff02553e-61ea-42fa-976b-c16ab69a7466  Exclusive_Databased_Gateway   \nnode_fef75039-c998-4341-9239-cb01982ac22e                         Task   \nnode_509fc1e2-972c-45c2-a5ec-694be49acfe5              ParallelGateway   \nnode_6138700a-d273-4f3d-9646-50d0f4f15ada                         Task   \nnode_3d6d153e-ccf4-4c96-927e-eb458d4dbfd1                         Task   \nnode_c765a1ed-9009-4b37-8147-08392f2c257e  Exclusive_Databased_Gateway   \nnode_2e367281-6202-4217-988b-e4aa1239916e                         Task   \nnode_8c4b388e-feb2-4063-b821-35615b669b64  Exclusive_Databased_Gateway   \nnode_9bce8374-55df-423c-9c07-181673e7aaa8                         Task   \nnode_211c9c32-a19c-4cdf-8f5d-1e7653795d09  Exclusive_Databased_Gateway   \nnode_91e1cb57-5582-4d67-9ee1-6779c5c2764b                         Task   \nnode_716fa40f-e489-4062-89cc-b583dcb26edc                         Task   \nnode_960a40b7-711c-42ae-a851-22d7fab0d76d                         Task   \nnode_726ef1f0-22d9-46f9-80e0-81f4880bc359                 EndNoneEvent   \n\n                                                       label  \neid                                                           \nFlow_13uc2wb                                                  \nnode_4f04a242-3089-4fc6-a3c0-85441a7d0392                     \nnode_7024a84f-28a7-463c-8cdb-32786325aa00                     \nnode_0b029add-a1be-435f-8f9f-d353a5f1c78e                     \nnode_46369223-8420-429f-88ab-a3e90986c170                     \nnode_3e08ecf9-c0eb-4b35-bf1f-98beaa32ae51                     \nnode_ba297df6-91fc-44a2-837b-0445bf8a988b                     \nnode_7c638e28-d7b9-40d0-b694-11f1730c7cc7                     \nnode_b2235c13-d108-4598-b8f2-8c0fcb092475                     \nnode_1d47d4f2-394f-4c41-8349-a21c1bd2d5f4                     \nnode_e65c0296-5357-4ea6-bb5b-9d97ffdb1cc4                     \nnode_b759e156-0017-4a88-9089-f464a691e72e                     \nnode_756c2b34-ade7-4d30-9ad5-8d88a4fe48b8                     \nnode_feec96d3-39f6-4ec6-b60f-70886fb067e1                     \nnode_26453280-fdad-4264-8ebc-e74f9063991e                     \nnode_1740fa9c-debe-4cb8-826c-e28cd352a026                     \nnode_decb4122-cac9-49e8-9fe1-73ea11f1ac4e                     \nnode_b8ebcd61-f9a7-49eb-ad3f-4bb4e34ea92c                     \nnode_a39f0682-876c-4126-bd78-201ecd01ac42                     \nnode_4ca4283d-2a6e-4cba-b41a-b183c6367483                     \nnode_94c5d9be-c1ee-4e5c-ada3-49a29034649b                     \nnode_b81e5da9-1262-4bde-8c22-0e5c4462adfe                     \nnode_4164d419-31e8-4389-98fb-cb5d82b642a8                     \nnode_731b1e10-85bc-4cbd-a907-a97397d98a3b                     \nGateway_10qrmx2                                               \nnode_e8edc907-2719-4073-a972-88e3ab24d16d                     \nnode_d8fd7b75-26df-4db9-a3c3-444432bb3034        A_SUBMITTED  \nnode_c3d533f2-4a4b-44ee-bc3b-6b360a8eb46c  A_PARTLYSUBMITTED  \nnode_bde37d1e-eed0-4702-82c6-1bc75062ab11                     \nnode_ff02553e-61ea-42fa-976b-c16ab69a7466                     \nnode_fef75039-c998-4341-9239-cb01982ac22e         A_DECLINED  \nnode_509fc1e2-972c-45c2-a5ec-694be49acfe5                     \nnode_6138700a-d273-4f3d-9646-50d0f4f15ada       A_REGISTERED  \nnode_3d6d153e-ccf4-4c96-927e-eb458d4dbfd1         A_APPROVED  \nnode_c765a1ed-9009-4b37-8147-08392f2c257e                     \nnode_2e367281-6202-4217-988b-e4aa1239916e        A_FINALIZED  \nnode_8c4b388e-feb2-4063-b821-35615b669b64                     \nnode_9bce8374-55df-423c-9c07-181673e7aaa8         A_ACCEPTED  \nnode_211c9c32-a19c-4cdf-8f5d-1e7653795d09                     \nnode_91e1cb57-5582-4d67-9ee1-6779c5c2764b      A_PREACCEPTED  \nnode_716fa40f-e489-4062-89cc-b583dcb26edc        A_CANCELLED  \nnode_960a40b7-711c-42ae-a851-22d7fab0d76d        A_ACTIVATED  \nnode_726ef1f0-22d9-46f9-80e0-81f4880bc359                     ",
      "text/html": "<div>\n<style scoped>\n    .dataframe tbody tr th:only-of-type {\n        vertical-align: middle;\n    }\n\n    .dataframe tbody tr th {\n        vertical-align: top;\n    }\n\n    .dataframe thead th {\n        text-align: right;\n    }\n</style>\n<table border=\"1\" class=\"dataframe\">\n  <thead>\n    <tr style=\"text-align: right;\">\n      <th></th>\n      <th>category</th>\n      <th>label</th>\n    </tr>\n    <tr>\n      <th>eid</th>\n      <th></th>\n      <th></th>\n    </tr>\n  </thead>\n  <tbody>\n    <tr>\n      <th>Flow_13uc2wb</th>\n      <td>SequenceFlow</td>\n      <td></td>\n    </tr>\n    <tr>\n      <th>node_4f04a242-3089-4fc6-a3c0-85441a7d0392</th>\n      <td>SequenceFlow</td>\n      <td></td>\n    </tr>\n    <tr>\n      <th>node_7024a84f-28a7-463c-8cdb-32786325aa00</th>\n      <td>SequenceFlow</td>\n      <td></td>\n    </tr>\n    <tr>\n      <th>node_0b029add-a1be-435f-8f9f-d353a5f1c78e</th>\n      <td>SequenceFlow</td>\n      <td></td>\n    </tr>\n    <tr>\n      <th>node_46369223-8420-429f-88ab-a3e90986c170</th>\n      <td>SequenceFlow</td>\n      <td></td>\n    </tr>\n    <tr>\n      <th>node_3e08ecf9-c0eb-4b35-bf1f-98beaa32ae51</th>\n      <td>SequenceFlow</td>\n      <td></td>\n    </tr>\n    <tr>\n      <th>node_ba297df6-91fc-44a2-837b-0445bf8a988b</th>\n      <td>SequenceFlow</td>\n      <td></td>\n    </tr>\n    <tr>\n      <th>node_7c638e28-d7b9-40d0-b694-11f1730c7cc7</th>\n      <td>SequenceFlow</td>\n      <td></td>\n    </tr>\n    <tr>\n      <th>node_b2235c13-d108-4598-b8f2-8c0fcb092475</th>\n      <td>SequenceFlow</td>\n      <td></td>\n    </tr>\n    <tr>\n      <th>node_1d47d4f2-394f-4c41-8349-a21c1bd2d5f4</th>\n      <td>SequenceFlow</td>\n      <td></td>\n    </tr>\n    <tr>\n      <th>node_e65c0296-5357-4ea6-bb5b-9d97ffdb1cc4</th>\n      <td>SequenceFlow</td>\n      <td></td>\n    </tr>\n    <tr>\n      <th>node_b759e156-0017-4a88-9089-f464a691e72e</th>\n      <td>SequenceFlow</td>\n      <td></td>\n    </tr>\n    <tr>\n      <th>node_756c2b34-ade7-4d30-9ad5-8d88a4fe48b8</th>\n      <td>SequenceFlow</td>\n      <td></td>\n    </tr>\n    <tr>\n      <th>node_feec96d3-39f6-4ec6-b60f-70886fb067e1</th>\n      <td>SequenceFlow</td>\n      <td></td>\n    </tr>\n    <tr>\n      <th>node_26453280-fdad-4264-8ebc-e74f9063991e</th>\n      <td>SequenceFlow</td>\n      <td></td>\n    </tr>\n    <tr>\n      <th>node_1740fa9c-debe-4cb8-826c-e28cd352a026</th>\n      <td>SequenceFlow</td>\n      <td></td>\n    </tr>\n    <tr>\n      <th>node_decb4122-cac9-49e8-9fe1-73ea11f1ac4e</th>\n      <td>SequenceFlow</td>\n      <td></td>\n    </tr>\n    <tr>\n      <th>node_b8ebcd61-f9a7-49eb-ad3f-4bb4e34ea92c</th>\n      <td>SequenceFlow</td>\n      <td></td>\n    </tr>\n    <tr>\n      <th>node_a39f0682-876c-4126-bd78-201ecd01ac42</th>\n      <td>SequenceFlow</td>\n      <td></td>\n    </tr>\n    <tr>\n      <th>node_4ca4283d-2a6e-4cba-b41a-b183c6367483</th>\n      <td>SequenceFlow</td>\n      <td></td>\n    </tr>\n    <tr>\n      <th>node_94c5d9be-c1ee-4e5c-ada3-49a29034649b</th>\n      <td>SequenceFlow</td>\n      <td></td>\n    </tr>\n    <tr>\n      <th>node_b81e5da9-1262-4bde-8c22-0e5c4462adfe</th>\n      <td>SequenceFlow</td>\n      <td></td>\n    </tr>\n    <tr>\n      <th>node_4164d419-31e8-4389-98fb-cb5d82b642a8</th>\n      <td>SequenceFlow</td>\n      <td></td>\n    </tr>\n    <tr>\n      <th>node_731b1e10-85bc-4cbd-a907-a97397d98a3b</th>\n      <td>SequenceFlow</td>\n      <td></td>\n    </tr>\n    <tr>\n      <th>Gateway_10qrmx2</th>\n      <td>ParallelGateway</td>\n      <td></td>\n    </tr>\n    <tr>\n      <th>node_e8edc907-2719-4073-a972-88e3ab24d16d</th>\n      <td>StartNoneEvent</td>\n      <td></td>\n    </tr>\n    <tr>\n      <th>node_d8fd7b75-26df-4db9-a3c3-444432bb3034</th>\n      <td>Task</td>\n      <td>A_SUBMITTED</td>\n    </tr>\n    <tr>\n      <th>node_c3d533f2-4a4b-44ee-bc3b-6b360a8eb46c</th>\n      <td>Task</td>\n      <td>A_PARTLYSUBMITTED</td>\n    </tr>\n    <tr>\n      <th>node_bde37d1e-eed0-4702-82c6-1bc75062ab11</th>\n      <td>Exclusive_Databased_Gateway</td>\n      <td></td>\n    </tr>\n    <tr>\n      <th>node_ff02553e-61ea-42fa-976b-c16ab69a7466</th>\n      <td>Exclusive_Databased_Gateway</td>\n      <td></td>\n    </tr>\n    <tr>\n      <th>node_fef75039-c998-4341-9239-cb01982ac22e</th>\n      <td>Task</td>\n      <td>A_DECLINED</td>\n    </tr>\n    <tr>\n      <th>node_509fc1e2-972c-45c2-a5ec-694be49acfe5</th>\n      <td>ParallelGateway</td>\n      <td></td>\n    </tr>\n    <tr>\n      <th>node_6138700a-d273-4f3d-9646-50d0f4f15ada</th>\n      <td>Task</td>\n      <td>A_REGISTERED</td>\n    </tr>\n    <tr>\n      <th>node_3d6d153e-ccf4-4c96-927e-eb458d4dbfd1</th>\n      <td>Task</td>\n      <td>A_APPROVED</td>\n    </tr>\n    <tr>\n      <th>node_c765a1ed-9009-4b37-8147-08392f2c257e</th>\n      <td>Exclusive_Databased_Gateway</td>\n      <td></td>\n    </tr>\n    <tr>\n      <th>node_2e367281-6202-4217-988b-e4aa1239916e</th>\n      <td>Task</td>\n      <td>A_FINALIZED</td>\n    </tr>\n    <tr>\n      <th>node_8c4b388e-feb2-4063-b821-35615b669b64</th>\n      <td>Exclusive_Databased_Gateway</td>\n      <td></td>\n    </tr>\n    <tr>\n      <th>node_9bce8374-55df-423c-9c07-181673e7aaa8</th>\n      <td>Task</td>\n      <td>A_ACCEPTED</td>\n    </tr>\n    <tr>\n      <th>node_211c9c32-a19c-4cdf-8f5d-1e7653795d09</th>\n      <td>Exclusive_Databased_Gateway</td>\n      <td></td>\n    </tr>\n    <tr>\n      <th>node_91e1cb57-5582-4d67-9ee1-6779c5c2764b</th>\n      <td>Task</td>\n      <td>A_PREACCEPTED</td>\n    </tr>\n    <tr>\n      <th>node_716fa40f-e489-4062-89cc-b583dcb26edc</th>\n      <td>Task</td>\n      <td>A_CANCELLED</td>\n    </tr>\n    <tr>\n      <th>node_960a40b7-711c-42ae-a851-22d7fab0d76d</th>\n      <td>Task</td>\n      <td>A_ACTIVATED</td>\n    </tr>\n    <tr>\n      <th>node_726ef1f0-22d9-46f9-80e0-81f4880bc359</th>\n      <td>EndNoneEvent</td>\n      <td></td>\n    </tr>\n  </tbody>\n</table>\n</div>"
     },
     "execution_count": 2,
     "metadata": {},
     "output_type": "execute_result"
    }
   ],
   "source": [
    "import pandas as pd\n",
    "from semconstmining.parsing.parser import get_elements_flat\n",
    "from semconstmining.parsing.model_to_log import check_soundness, create_log\n",
    "from semconstmining.parsing.conversion.bpmnjsonanalyzer import fromJSON\n",
    "from semconstmining.parsing.conversion.jsontopetrinetconverter import JsonToPetriNetConverter\n",
    "\n",
    "f, l, _ = fromJSON(model_json)\n",
    "elements = pd.DataFrame.from_records(get_elements_flat(model_json, f, l)).set_index('eid')\n",
    "elements"
   ],
   "metadata": {
    "collapsed": false,
    "ExecuteTime": {
     "end_time": "2024-03-21T10:11:44.291445Z",
     "start_time": "2024-03-21T10:11:39.569987Z"
    }
   },
   "id": "61995cabf792588a",
   "execution_count": 2
  },
  {
   "cell_type": "code",
   "outputs": [
    {
     "name": "stdout",
     "output_type": "stream",
     "text": [
      "Input is ok.\n",
      "Petri Net is a workflow net.\n",
      "Every place is covered by s-components.\n",
      "There are no dead tasks.\n",
      "All tasks are live.\n",
      "True\n",
      "[{'attributes': {}, 'events': [{'concept:name': 'A_SUBMITTED', 'time:timestamp': datetime.datetime(1970, 4, 26, 18, 46, 41), 'eid': 'node_d8fd7b75-26df-4db9-a3c3-444432bb3034', 'category': 'Task'}, '..', {'concept:name': 'A_CANCELLED', 'time:timestamp': datetime.datetime(1970, 4, 26, 18, 46, 45), 'eid': 'node_716fa40f-e489-4062-89cc-b583dcb26edc', 'category': 'Task'}]}, '....', {'attributes': {}, 'events': [{'concept:name': 'A_SUBMITTED', 'time:timestamp': datetime.datetime(1970, 4, 26, 18, 47, 14), 'eid': 'node_d8fd7b75-26df-4db9-a3c3-444432bb3034', 'category': 'Task'}, '..', {'concept:name': 'A_DECLINED', 'time:timestamp': datetime.datetime(1970, 4, 26, 18, 47, 22), 'eid': 'node_fef75039-c998-4341-9239-cb01982ac22e', 'category': 'Task'}]}]\n"
     ]
    }
   ],
   "source": [
    "converter = JsonToPetriNetConverter()\n",
    "\n",
    "net, im, fm = converter.convert_from_parsed(f, l)\n",
    "is_sound = check_soundness(net, im, fm)\n",
    "print(is_sound)\n",
    "if is_sound:\n",
    "    log = create_log(net, im, fm, elements)\n",
    "    print(log)"
   ],
   "metadata": {
    "collapsed": false,
    "ExecuteTime": {
     "end_time": "2024-03-21T10:11:44.347591Z",
     "start_time": "2024-03-21T10:11:44.293230Z"
    }
   },
   "id": "20f59e248754d26a",
   "execution_count": 3
  },
  {
   "cell_type": "code",
   "outputs": [
    {
     "data": {
      "text/plain": "{'Absence2[A_ACCEPTED] | |',\n 'Absence2[A_CANCELLED] | |',\n 'Absence2[A_DECLINED] | |',\n 'Absence2[A_PARTLYSUBMITTED] | |',\n 'Absence2[A_PREACCEPTED] | |',\n 'Absence2[A_SUBMITTED] | |',\n 'Alternate Precedence[A_PARTLYSUBMITTED, A_ACCEPTED] | | |',\n 'Alternate Precedence[A_PARTLYSUBMITTED, A_CANCELLED] | | |',\n 'Alternate Precedence[A_PARTLYSUBMITTED, A_DECLINED] | | |',\n 'Alternate Precedence[A_PARTLYSUBMITTED, A_PREACCEPTED] | | |',\n 'Alternate Precedence[A_PREACCEPTED, A_ACCEPTED] | | |',\n 'Alternate Precedence[A_SUBMITTED, A_ACCEPTED] | | |',\n 'Alternate Precedence[A_SUBMITTED, A_CANCELLED] | | |',\n 'Alternate Precedence[A_SUBMITTED, A_DECLINED] | | |',\n 'Alternate Precedence[A_SUBMITTED, A_PARTLYSUBMITTED] | | |',\n 'Alternate Precedence[A_SUBMITTED, A_PREACCEPTED] | | |',\n 'Alternate Response[A_SUBMITTED, A_PARTLYSUBMITTED] | | |',\n 'Alternate Succession[A_SUBMITTED, A_PARTLYSUBMITTED] | | |',\n 'Exactly1[A_PARTLYSUBMITTED] | |',\n 'Exactly1[A_SUBMITTED] | |',\n 'Exclusive Choice[A_CANCELLED, A_DECLINED] | | |',\n 'Exclusive Choice[A_DECLINED, A_CANCELLED] | | |',\n 'Existence1[A_PARTLYSUBMITTED] | |',\n 'Existence1[A_SUBMITTED] | |',\n 'Init[A_SUBMITTED] | |',\n 'Not Precedence[A_ACCEPTED, A_PARTLYSUBMITTED] | | |',\n 'Not Precedence[A_ACCEPTED, A_PREACCEPTED] | | |',\n 'Not Precedence[A_ACCEPTED, A_SUBMITTED] | | |',\n 'Not Precedence[A_CANCELLED, A_ACCEPTED] | | |',\n 'Not Precedence[A_CANCELLED, A_DECLINED] | | |',\n 'Not Precedence[A_CANCELLED, A_PARTLYSUBMITTED] | | |',\n 'Not Precedence[A_CANCELLED, A_PREACCEPTED] | | |',\n 'Not Precedence[A_CANCELLED, A_SUBMITTED] | | |',\n 'Not Precedence[A_DECLINED, A_ACCEPTED] | | |',\n 'Not Precedence[A_DECLINED, A_CANCELLED] | | |',\n 'Not Precedence[A_DECLINED, A_PARTLYSUBMITTED] | | |',\n 'Not Precedence[A_DECLINED, A_PREACCEPTED] | | |',\n 'Not Precedence[A_DECLINED, A_SUBMITTED] | | |',\n 'Not Precedence[A_PARTLYSUBMITTED, A_SUBMITTED] | | |',\n 'Not Precedence[A_PREACCEPTED, A_PARTLYSUBMITTED] | | |',\n 'Not Precedence[A_PREACCEPTED, A_SUBMITTED] | | |',\n 'Not Responded Existence[A_CANCELLED, A_DECLINED] | | |',\n 'Not Responded Existence[A_DECLINED, A_CANCELLED] | | |',\n 'Not Response[A_ACCEPTED, A_PARTLYSUBMITTED] | | |',\n 'Not Response[A_ACCEPTED, A_PREACCEPTED] | | |',\n 'Not Response[A_ACCEPTED, A_SUBMITTED] | | |',\n 'Not Response[A_CANCELLED, A_ACCEPTED] | | |',\n 'Not Response[A_CANCELLED, A_DECLINED] | | |',\n 'Not Response[A_CANCELLED, A_PARTLYSUBMITTED] | | |',\n 'Not Response[A_CANCELLED, A_PREACCEPTED] | | |',\n 'Not Response[A_CANCELLED, A_SUBMITTED] | | |',\n 'Not Response[A_DECLINED, A_ACCEPTED] | | |',\n 'Not Response[A_DECLINED, A_CANCELLED] | | |',\n 'Not Response[A_DECLINED, A_PARTLYSUBMITTED] | | |',\n 'Not Response[A_DECLINED, A_PREACCEPTED] | | |',\n 'Not Response[A_DECLINED, A_SUBMITTED] | | |',\n 'Not Response[A_PARTLYSUBMITTED, A_SUBMITTED] | | |',\n 'Not Response[A_PREACCEPTED, A_PARTLYSUBMITTED] | | |',\n 'Not Response[A_PREACCEPTED, A_SUBMITTED] | | |',\n 'Precedence[A_PARTLYSUBMITTED, A_ACCEPTED] | | |',\n 'Precedence[A_PARTLYSUBMITTED, A_CANCELLED] | | |',\n 'Precedence[A_PARTLYSUBMITTED, A_DECLINED] | | |',\n 'Precedence[A_PARTLYSUBMITTED, A_PREACCEPTED] | | |',\n 'Precedence[A_PREACCEPTED, A_ACCEPTED] | | |',\n 'Precedence[A_SUBMITTED, A_ACCEPTED] | | |',\n 'Precedence[A_SUBMITTED, A_CANCELLED] | | |',\n 'Precedence[A_SUBMITTED, A_DECLINED] | | |',\n 'Precedence[A_SUBMITTED, A_PARTLYSUBMITTED] | | |',\n 'Precedence[A_SUBMITTED, A_PREACCEPTED] | | |',\n 'Responded Existence[A_ACCEPTED, A_PARTLYSUBMITTED] | | |',\n 'Responded Existence[A_ACCEPTED, A_PREACCEPTED] | | |',\n 'Responded Existence[A_ACCEPTED, A_SUBMITTED] | | |',\n 'Responded Existence[A_CANCELLED, A_PARTLYSUBMITTED] | | |',\n 'Responded Existence[A_CANCELLED, A_SUBMITTED] | | |',\n 'Responded Existence[A_DECLINED, A_PARTLYSUBMITTED] | | |',\n 'Responded Existence[A_DECLINED, A_SUBMITTED] | | |',\n 'Responded Existence[A_PARTLYSUBMITTED, A_SUBMITTED] | | |',\n 'Responded Existence[A_PREACCEPTED, A_PARTLYSUBMITTED] | | |',\n 'Responded Existence[A_PREACCEPTED, A_SUBMITTED] | | |',\n 'Responded Existence[A_SUBMITTED, A_PARTLYSUBMITTED] | | |',\n 'Response[A_SUBMITTED, A_PARTLYSUBMITTED] | | |',\n 'Succession[A_SUBMITTED, A_PARTLYSUBMITTED] | | |'}"
     },
     "execution_count": 5,
     "metadata": {},
     "output_type": "execute_result"
    }
   ],
   "source": [
    "from semconstmining.declare.enums import Template\n",
    "from semconstmining.declare.declare import Declare\n",
    "\n",
    "\n",
    "d4py = Declare()\n",
    "d4py.config.CONSTRAINT_TYPES_TO_IGNORE = [Template.CHAIN_RESPONSE.templ_str,\n",
    "                                           Template.CHAIN_PRECEDENCE.templ_str, Template.CHAIN_SUCCESSION.templ_str,\n",
    "                                           Template.CHOICE.templ_str, Template.NOT_CHAIN_RESPONSE.templ_str,\n",
    "                                             Template.NOT_CHAIN_PRECEDENCE.templ_str]\n",
    "res = set()\n",
    "for i, trace in enumerate(log):\n",
    "    trace.attributes[\"concept:name\"] = str(i)\n",
    "d4py.log = log\n",
    "d4py.compute_frequent_itemsets(min_support=0.0, len_itemset=2, algorithm=\"apriori\")\n",
    "d4py.discovery(consider_vacuity=True, max_declare_cardinality=2, plain=True)\n",
    "individual_res, associations = d4py.filter_discovery(min_support=0.99, plain=True)\n",
    "res.update(const for const, checker_results in individual_res.items() if \"[]\" not in const\n",
    "           and \"[none]\" not in const)\n",
    "res"
   ],
   "metadata": {
    "collapsed": false,
    "ExecuteTime": {
     "end_time": "2024-03-21T10:12:47.066872Z",
     "start_time": "2024-03-21T10:12:47.005714Z"
    }
   },
   "id": "b89a4ebc81b0d1b",
   "execution_count": 5
  },
  {
   "cell_type": "code",
   "outputs": [],
   "source": [],
   "metadata": {
    "collapsed": false
   },
   "id": "f3b7254752550585"
  }
 ],
 "metadata": {
  "kernelspec": {
   "display_name": "Python 3",
   "language": "python",
   "name": "python3"
  },
  "language_info": {
   "codemirror_mode": {
    "name": "ipython",
    "version": 2
   },
   "file_extension": ".py",
   "mimetype": "text/x-python",
   "name": "python",
   "nbconvert_exporter": "python",
   "pygments_lexer": "ipython2",
   "version": "2.7.6"
  }
 },
 "nbformat": 4,
 "nbformat_minor": 5
}
